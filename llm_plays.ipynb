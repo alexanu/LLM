{
 "cells": [
  {
   "cell_type": "markdown",
   "metadata": {},
   "source": [
    "# Youtube"
   ]
  },
  {
   "cell_type": "code",
   "execution_count": null,
   "metadata": {},
   "outputs": [],
   "source": [
    "!pip install youtube-transcript-api==0.6.1 langchain==0.0.335 pytube==15.0.0"
   ]
  },
  {
   "cell_type": "markdown",
   "metadata": {},
   "source": [
    "## Youtube retriever"
   ]
  },
  {
   "cell_type": "code",
   "execution_count": null,
   "metadata": {},
   "outputs": [],
   "source": [
    "from langchain.document_loaders import YoutubeLoader\n",
    "     \n",
    "loader = YoutubeLoader.from_youtube_url(\"https://www.youtube.com/watch?v=Q4OBx3S0Ysw&t=118s\", add_video_info=True)\n",
    "\n",
    "data = loader.load()\n",
    "data[0].page_content\n",
    "\n",
    "from langchain.text_splitter import RecursiveCharacterTextSplitter\n",
    "\n",
    "text_splitter = RecursiveCharacterTextSplitter(\n",
    "chunk_size = 1000,\n",
    "chunk_overlap = 50,\n",
    "length_function = len,\n",
    "add_start_index = True,\n",
    ")\n",
    "\n",
    "texts = text_splitter.create_documents([data[0].page_content])\n",
    "\n",
    "## Inspect the different pieces of text\n",
    "print(texts[0])\n",
    "print(texts[1])\n",
    "print(texts[2])"
   ]
  }
 ],
 "metadata": {
  "kernelspec": {
   "display_name": "llm_env",
   "language": "python",
   "name": "python3"
  },
  "language_info": {
   "name": "python",
   "version": "3.12.2"
  }
 },
 "nbformat": 4,
 "nbformat_minor": 2
}
